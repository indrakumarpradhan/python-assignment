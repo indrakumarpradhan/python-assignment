{
 "cells": [
  {
   "cell_type": "code",
   "execution_count": 1,
   "id": "3ee227fc",
   "metadata": {},
   "outputs": [],
   "source": [
    "#ASSESSMENT"
   ]
  },
  {
   "cell_type": "code",
   "execution_count": null,
   "id": "507cc4cb",
   "metadata": {},
   "outputs": [],
   "source": [
    "\n",
    " u9po[u9lkjgklm\n",
    "     =  \"(vglkk;opbonmnreskbn  mlj,mjml;j,,m  m ake huseyuyerekj,nuo8w3251 ooi9u`u0bujOVIK)\"]   "
   ]
  },
  {
   "cell_type": "code",
   "execution_count": null,
   "id": "e5790e15",
   "metadata": {},
   "outputs": [],
   "source": []
  },
  {
   "cell_type": "code",
   "execution_count": 24,
   "id": "1b08cd99",
   "metadata": {},
   "outputs": [
    {
     "name": "stdout",
     "output_type": "stream",
     "text": [
      "Counter({'POCO': 1, 'ROG': 1, 'AUSUS': 1, 'SAMSUNG': 1})\n",
      "C:\\Users\\Lenovo\\Desktop\\indra kr(python)\n",
      "2023-07-04 03:07:06.856932\n",
      "4.0\n",
      "8\n"
     ]
    }
   ],
   "source": [
    "import collections\n",
    "import os\n",
    "import datetime\n",
    "import math\n",
    "import random\n",
    "\n",
    "mobilebrands = ['POCO', 'ROG', 'AUSUS', 'SAMSUNG',]\n",
    "mobilebrands_counter = collections.Counter(mobilebrands)\n",
    "print(mobilebrands_counter) \n",
    "current_dir = os.getcwd()\n",
    "print(current_dir) \n",
    "current_datetime = datetime.datetime.now()\n",
    "print(current_datetime)  \n",
    "num = 16\n",
    "square_root = math.sqrt(num)\n",
    "print(square_root)  \n",
    "\n",
    "random_number = random.randint(1, 10)\n",
    "print(random_number) "
   ]
  },
  {
   "cell_type": "code",
   "execution_count": null,
   "id": "e921ce16",
   "metadata": {},
   "outputs": [],
   "source": []
  },
  {
   "cell_type": "code",
   "execution_count": 3,
   "id": "e5ef6ef4",
   "metadata": {},
   "outputs": [
    {
     "ename": "NameError",
     "evalue": "name 'index' is not defined",
     "output_type": "error",
     "traceback": [
      "\u001b[1;31m---------------------------------------------------------------------------\u001b[0m",
      "\u001b[1;31mNameError\u001b[0m                                 Traceback (most recent call last)",
      "Cell \u001b[1;32mIn[3], line 8\u001b[0m\n\u001b[0;32m      6\u001b[0m array \u001b[38;5;241m=\u001b[39m [\u001b[38;5;241m2\u001b[39m,\u001b[38;5;241m5\u001b[39m,\u001b[38;5;241m7\u001b[39m,\u001b[38;5;241m12\u001b[39m,\u001b[38;5;241m8\u001b[39m,\u001b[38;5;241m17\u001b[39m]\n\u001b[0;32m      7\u001b[0m target_value \u001b[38;5;241m=\u001b[39m \u001b[38;5;241m20\u001b[39m\n\u001b[1;32m----> 8\u001b[0m \u001b[38;5;28;01mif\u001b[39;00m \u001b[43mindex\u001b[49m \u001b[38;5;241m!=\u001b[39m \u001b[38;5;241m-\u001b[39m\u001b[38;5;241m1\u001b[39m:\n\u001b[0;32m      9\u001b[0m     \u001b[38;5;28mprint\u001b[39m(\u001b[38;5;124mf\u001b[39m\u001b[38;5;124m\"\u001b[39m\u001b[38;5;124mThe target value \u001b[39m\u001b[38;5;132;01m{\u001b[39;00mtarget_value\u001b[38;5;132;01m}\u001b[39;00m\u001b[38;5;124m was fount at index \u001b[39m\u001b[38;5;132;01m{\u001b[39;00mindex\u001b[38;5;132;01m}\u001b[39;00m\u001b[38;5;124m.\u001b[39m\u001b[38;5;124m\"\u001b[39m)\n\u001b[0;32m     10\u001b[0m \u001b[38;5;28;01melse\u001b[39;00m:\n",
      "\u001b[1;31mNameError\u001b[0m: name 'index' is not defined"
     ]
    }
   ],
   "source": [
    "def linearsearch(array,target):\n",
    "    for i in range():\n",
    "        if(array[i] == target):\n",
    "            return i\n",
    "        return i\n",
    "array = [2,5,7,12,8,17]\n",
    "target_value = 20\n",
    "if index != -1:\n",
    "    print(f\"The target value {target_value} was fount at index {index}.\")\n",
    "else:\n",
    "    print(f\"The target value {target_value} was not found in the array.\")\n"
   ]
  },
  {
   "cell_type": "code",
   "execution_count": null,
   "id": "9564f2ed",
   "metadata": {},
   "outputs": [],
   "source": []
  },
  {
   "cell_type": "code",
   "execution_count": null,
   "id": "e34bb59d",
   "metadata": {},
   "outputs": [],
   "source": []
  }
 ],
 "metadata": {
  "kernelspec": {
   "display_name": "Python 3 (ipykernel)",
   "language": "python",
   "name": "python3"
  },
  "language_info": {
   "codemirror_mode": {
    "name": "ipython",
    "version": 3
   },
   "file_extension": ".py",
   "mimetype": "text/x-python",
   "name": "python",
   "nbconvert_exporter": "python",
   "pygments_lexer": "ipython3",
   "version": "3.10.9"
  }
 },
 "nbformat": 4,
 "nbformat_minor": 5
}
