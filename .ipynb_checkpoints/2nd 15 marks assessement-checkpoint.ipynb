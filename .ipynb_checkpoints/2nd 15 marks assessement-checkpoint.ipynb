{
 "cells": [
  {
   "cell_type": "markdown",
   "id": "3f0f8770",
   "metadata": {},
   "source": [
    "1. Python Program to convert decimal to binary, octal and hexadecimal."
   ]
  },
  {
   "cell_type": "code",
   "execution_count": 1,
   "id": "f3f61d15",
   "metadata": {},
   "outputs": [
    {
     "name": "stdout",
     "output_type": "stream",
     "text": [
      "the decimal value of 344 is:\n",
      "0b101011000 in binary.\n",
      "0o530 in octal.\n",
      "0x158 in hexadecimal.\n"
     ]
    }
   ],
   "source": [
    "dec=344\n",
    "print(\"the decimal value of\",dec,\"is:\")\n",
    "print(bin(dec),\"in binary.\")\n",
    "print(oct(dec),\"in octal.\")\n",
    "print(hex(dec),\"in hexadecimal.\")"
   ]
  },
  {
   "cell_type": "markdown",
   "id": "301cffc3",
   "metadata": {},
   "source": [
    "Python Program to multiply and add two Matrices.\n"
   ]
  },
  {
   "cell_type": "code",
   "execution_count": 2,
   "id": "155a219d",
   "metadata": {},
   "outputs": [
    {
     "name": "stdout",
     "output_type": "stream",
     "text": [
      "The addition of two matrices:\n",
      "[10, 12, 9]\n",
      "[11, 13, 18]\n",
      "\n",
      "The multiplication of two matrices:\n",
      "[44, 53, 57]\n",
      "[74, 89, 93]\n"
     ]
    }
   ],
   "source": [
    "A = [[4, 5, 6],\n",
    "     [7, 8, 9]]\n",
    "B = [[6, 7, 3],\n",
    "     [4, 5, 9]]\n",
    "\n",
    "result_add = [[0, 0, 0],\n",
    "              [0, 0, 0]]\n",
    "\n",
    "result_mul = [[0, 0, 0],\n",
    "              [0, 0, 0]]\n",
    "\n",
    "# Adding matrices\n",
    "for i in range(len(A)):\n",
    "    for j in range(len(A[0])):\n",
    "        result_add[i][j] = A[i][j] + B[i][j]\n",
    "\n",
    "# Multiplying matrices\n",
    "for i in range(len(A)):\n",
    "    for j in range(len(B[0])):\n",
    "        for k in range(len(B)):\n",
    "            result_mul[i][j] += A[i][k] * B[k][j]\n",
    "\n",
    "# Printing the results\n",
    "print(\"The addition of two matrices:\")\n",
    "for r in result_add:\n",
    "    print(r)\n",
    "\n",
    "print(\"\\nThe multiplication of two matrices:\")\n",
    "for r in result_mul:\n",
    "    print(r)"
   ]
  },
  {
   "cell_type": "markdown",
   "id": "b46f32d1",
   "metadata": {},
   "source": [
    "3.Python Program to Sort Words in Alphabetic Order."
   ]
  },
  {
   "cell_type": "code",
   "execution_count": 5,
   "id": "64af8cd4",
   "metadata": {},
   "outputs": [
    {
     "name": "stdout",
     "output_type": "stream",
     "text": [
      "The sorted words are:\n",
      "an\n",
      "cased\n",
      "example\n",
      "hello\n",
      "is\n",
      "letters\n",
      "this\n",
      "with\n"
     ]
    }
   ],
   "source": [
    "my_str = \"Hello this is an example with cased letters\"\n",
    "words = [word.lower() for word in my_str.split()]\n",
    "words.sort()\n",
    "print(\"The sorted words are:\")\n",
    "for word in words:\n",
    "    print(word)\n"
   ]
  },
  {
   "cell_type": "markdown",
   "id": "791d0fd4",
   "metadata": {},
   "source": [
    "4.Python Program to implement at least five geometric "
   ]
  },
  {
   "cell_type": "code",
   "execution_count": 6,
   "id": "5187da67",
   "metadata": {},
   "outputs": [],
   "source": [
    "import turtle\n",
    "\n",
    "\n"
   ]
  },
  {
   "cell_type": "markdown",
   "id": "a521a53f",
   "metadata": {},
   "source": [
    "5. Python Program to check whether a string is palindrome or not."
   ]
  },
  {
   "cell_type": "code",
   "execution_count": 7,
   "id": "9f91b857",
   "metadata": {},
   "outputs": [
    {
     "name": "stdout",
     "output_type": "stream",
     "text": [
      "No, it's not a palindrome.\n"
     ]
    }
   ],
   "source": [
    "def isPalindrome(s):\n",
    "    return s == s[::-1]\n",
    "\n",
    "s = \"hello\"\n",
    "ans = isPalindrome(s)\n",
    "\n",
    "if ans:\n",
    "    print(\"Yes, it's a palindrome.\")\n",
    "else:\n",
    "    print(\"No, it's not a palindrome.\")\n"
   ]
  },
  {
   "cell_type": "markdown",
   "id": "fce2990c",
   "metadata": {},
   "source": [
    "6.Python Program to create Pyramid Pattern."
   ]
  },
  {
   "cell_type": "code",
   "execution_count": 8,
   "id": "510292cb",
   "metadata": {},
   "outputs": [
    {
     "name": "stdout",
     "output_type": "stream",
     "text": [
      "        10 \n",
      "       10 10 \n",
      "      10 10 10 \n",
      "     10 10 10 10 \n",
      "    10 10 10 10 10 \n",
      "   10 10 10 10 10 10 \n",
      "  10 10 10 10 10 10 10 \n",
      " 10 10 10 10 10 10 10 10 \n",
      "10 10 10 10 10 10 10 10 10 \n"
     ]
    }
   ],
   "source": [
    "def pyramid(n):\n",
    "    for i in range(0, n):\n",
    "        for j in range(0, n-i-1):\n",
    "            print(end=\" \")\n",
    "        for j in range(0, i+1):\n",
    "            print(\"10\", end=\" \")\n",
    "        print()\n",
    "\n",
    "pyramid(9)\n"
   ]
  },
  {
   "cell_type": "markdown",
   "id": "aa188a09",
   "metadata": {},
   "source": [
    "7. Python Program to get file creation and modification Date."
   ]
  },
  {
   "cell_type": "code",
   "execution_count": 9,
   "id": "bc700180",
   "metadata": {},
   "outputs": [
    {
     "name": "stdout",
     "output_type": "stream",
     "text": [
      "File not found.\n"
     ]
    }
   ],
   "source": [
    "import os.path\n",
    "import time\n",
    "\n",
    "file_path = \"path/to/your/file.txt\" \n",
    "if os.path.exists(file_path):\n",
    "    creation_timestamp = os.path.getctime(file_path)\n",
    "    creation_date = time.ctime(creation_timestamp)\n",
    "    \n",
    "    modification_timestamp = os.path.getmtime(file_path)\n",
    "    modification_date = time.ctime(modification_timestamp)\n",
    "    print(\"File Creation Date:\", creation_date)\n",
    "    print(\"File Modification Date:\", modification_date)\n",
    "else:\n",
    "    print(\"File not found.\")"
   ]
  },
  {
   "cell_type": "markdown",
   "id": "40f80d71",
   "metadata": {},
   "source": [
    "8.Python Program to convert lists to dictionary.\n"
   ]
  },
  {
   "cell_type": "code",
   "execution_count": 10,
   "id": "9d7f4fc6",
   "metadata": {},
   "outputs": [
    {
     "name": "stdout",
     "output_type": "stream",
     "text": [
      "{'hello': 1, 'guys': 2, 'welcome': 3}\n"
     ]
    }
   ],
   "source": [
    "keys = ['hello', 'guys', 'welcome']\n",
    "values = [1, 2, 3]\n",
    "my_dict = {k: v for k, v in zip(keys, values)}\n",
    "print(my_dict)  \n"
   ]
  },
  {
   "cell_type": "markdown",
   "id": "698725f8",
   "metadata": {},
   "source": [
    "9. Python Program to create a Lap Timer."
   ]
  },
  {
   "cell_type": "code",
   "execution_count": null,
   "id": "11dc1e02",
   "metadata": {},
   "outputs": [
    {
     "name": "stdout",
     "output_type": "stream",
     "text": [
      "Press ENTER to start the timer, Press Ctrl + C to stop the timer\n",
      "\n",
      "Timer started...\n"
     ]
    }
   ],
   "source": [
    "import time\n",
    "\n",
    "print(\"Press ENTER to start the timer, Press Ctrl + C to stop the timer\")\n",
    "\n",
    "while True:\n",
    "    try:\n",
    "        input()\n",
    "        start_time = time.perf_counter()\n",
    "        print(\"Timer started...\")\n",
    "        \n",
    "    except KeyboardInterrupt:\n",
    "        print(\"Timer stopped...\")\n",
    "        end_time = time.perf_counter()\n",
    "        print(\"Elapsed time:\", end_time - start_time, \"seconds.\")\n",
    "        break\n",
    "\n",
    "        \n"
   ]
  },
  {
   "cell_type": "markdown",
   "id": "761c85df",
   "metadata": {},
   "source": [
    "10.Python Program to create unique values from dictionary values."
   ]
  },
  {
   "cell_type": "code",
   "execution_count": null,
   "id": "e10bdd72",
   "metadata": {},
   "outputs": [],
   "source": [
    "my_dict = {'a': 1, 'b': 2, 'c': 1, 'd': 2, 'e': 3}\n",
    "\n",
    "unique_values = set(my_dict.values())\n",
    "print(unique_values) \n"
   ]
  },
  {
   "cell_type": "code",
   "execution_count": null,
   "id": "9815a2fa",
   "metadata": {},
   "outputs": [],
   "source": []
  }
 ],
 "metadata": {
  "kernelspec": {
   "display_name": "Python 3 (ipykernel)",
   "language": "python",
   "name": "python3"
  },
  "language_info": {
   "codemirror_mode": {
    "name": "ipython",
    "version": 3
   },
   "file_extension": ".py",
   "mimetype": "text/x-python",
   "name": "python",
   "nbconvert_exporter": "python",
   "pygments_lexer": "ipython3",
   "version": "3.10.9"
  }
 },
 "nbformat": 4,
 "nbformat_minor": 5
}
