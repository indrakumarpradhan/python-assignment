{
 "cells": [
  {
   "cell_type": "code",
   "execution_count": 1,
   "id": "d9ab3f7f",
   "metadata": {},
   "outputs": [
    {
     "name": "stdout",
     "output_type": "stream",
     "text": [
      "The target number 8 was found at index 6.\n"
     ]
    }
   ],
   "source": [
    "def linear_search(arr, target):\n",
    "    for i in range(len(arr)):\n",
    "        if arr[i] == target:\n",
    "            return i \n",
    "    return -1  \n",
    "\n",
    "numbers = [4, 2, 9, 7, 5, 1, 8, 3, 6]\n",
    "target_number = 8\n",
    "\n",
    "index = linear_search(numbers, target_number)\n",
    "\n",
    "if index != -1:\n",
    "    print(f\"The target number {target_number} was found at index {index}.\")\n",
    "else:\n",
    "    print(\"The target number was not found in the list.\")\n"
   ]
  },
  {
   "cell_type": "code",
   "execution_count": 2,
   "id": "ef7b8504",
   "metadata": {},
   "outputs": [],
   "source": [
    "# frist we have to select the frist element as the current element\n",
    "# Then we compare the current element with the target element and if match it will print the output\n",
    "#if the targert element not found in the next element it will print target element not found\n",
    "# if the target element found return the location\n",
    "# if the target value found amd print it the the process is end.\n"
   ]
  },
  {
   "cell_type": "code",
   "execution_count": 4,
   "id": "bb07b439",
   "metadata": {},
   "outputs": [
    {
     "ename": "NameError",
     "evalue": "name 'mergeSort' is not defined",
     "output_type": "error",
     "traceback": [
      "\u001b[1;31m---------------------------------------------------------------------------\u001b[0m",
      "\u001b[1;31mNameError\u001b[0m                                 Traceback (most recent call last)",
      "Cell \u001b[1;32mIn[4], line 26\u001b[0m\n\u001b[0;32m     23\u001b[0m \u001b[38;5;28;01mif\u001b[39;00m \u001b[38;5;18m__name__\u001b[39m \u001b[38;5;241m==\u001b[39m \u001b[38;5;124m'\u001b[39m\u001b[38;5;124m__main__\u001b[39m\u001b[38;5;124m'\u001b[39m:\n\u001b[0;32m     24\u001b[0m     array \u001b[38;5;241m=\u001b[39m [\u001b[38;5;241m2\u001b[39m, \u001b[38;5;241m4\u001b[39m, \u001b[38;5;241m7\u001b[39m, \u001b[38;5;241m9\u001b[39m, \u001b[38;5;241m12\u001b[39m, \u001b[38;5;241m1\u001b[39m, \u001b[38;5;241m14\u001b[39m]\n\u001b[1;32m---> 26\u001b[0m     \u001b[43mmergeSort\u001b[49m(array)\n\u001b[0;32m     28\u001b[0m     \u001b[38;5;28mprint\u001b[39m(\u001b[38;5;124m\"\u001b[39m\u001b[38;5;124mSorted array is: \u001b[39m\u001b[38;5;124m\"\u001b[39m)\n\u001b[0;32m     29\u001b[0m     printList(array)\n",
      "\u001b[1;31mNameError\u001b[0m: name 'mergeSort' is not defined"
     ]
    }
   ],
   "source": [
    "def merge_sort(arr):\n",
    "    if len(arr) <= 1:\n",
    "        return arr\n",
    "    mid = len(arr) // 2\n",
    "    left_half = merge_sort(arr[:mid])\n",
    "    right_half = merge_sort(arr[mid:])\n",
    "    return merge(left_half, right_half)\n",
    "\n",
    "def merge(left, right):\n",
    "    merged = []\n",
    "    while left and right:\n",
    "        if left[0] <= right[0]:\n",
    "            merged.append(left.pop(0))\n",
    "        else:\n",
    "            merged.append(right.pop(0))\n",
    "    merged.extend(left or right)\n",
    "    return merged\n",
    "def printList(array):\n",
    "    for i in range(len(array)):\n",
    "        print(array[i], end=\" \")\n",
    "    print()\n",
    "\n",
    "if __name__ == '__main__':\n",
    "    array = [2, 4, 7, 9, 12, 1, 14]\n",
    "\n",
    "    mergeSort(array)\n",
    "\n",
    "    print(\"Sorted array is: \")\n",
    "    printList(array)\n"
   ]
  },
  {
   "cell_type": "code",
   "execution_count": null,
   "id": "bf814faa",
   "metadata": {},
   "outputs": [],
   "source": []
  }
 ],
 "metadata": {
  "kernelspec": {
   "display_name": "Python 3 (ipykernel)",
   "language": "python",
   "name": "python3"
  },
  "language_info": {
   "codemirror_mode": {
    "name": "ipython",
    "version": 3
   },
   "file_extension": ".py",
   "mimetype": "text/x-python",
   "name": "python",
   "nbconvert_exporter": "python",
   "pygments_lexer": "ipython3",
   "version": "3.10.9"
  }
 },
 "nbformat": 4,
 "nbformat_minor": 5
}
