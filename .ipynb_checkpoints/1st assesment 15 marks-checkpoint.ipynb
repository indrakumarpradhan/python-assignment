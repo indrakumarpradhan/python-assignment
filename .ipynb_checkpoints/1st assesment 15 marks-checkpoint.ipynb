{
 "cells": [
  {
   "cell_type": "code",
   "execution_count": 1,
   "id": "053fb93d",
   "metadata": {},
   "outputs": [
    {
     "name": "stdout",
     "output_type": "stream",
     "text": [
      "Enter a year: 2018\n",
      "Given year is not a leap year\n"
     ]
    }
   ],
   "source": [
    "year = int(input(\"Enter a year: \"))\n",
    "if (year%4 == 0 and year%100 != 0) or (year%400 == 0) :\n",
    "    print(\"Given year is a leap year\")\n",
    "else:\n",
    "    print(\"Given year is not a leap year\")"
   ]
  },
  {
   "cell_type": "code",
   "execution_count": 2,
   "id": "dfb2c2ea",
   "metadata": {},
   "outputs": [
    {
     "name": "stdout",
     "output_type": "stream",
     "text": [
      "Enter any number6\n",
      "6 is a prime number\n"
     ]
    }
   ],
   "source": [
    "n = int(input(\"Enter any number\"))\n",
    "if n >1:\n",
    "    for i in range(2,n):\n",
    "        if(n % i) == 0:\n",
    "            print(n,\"is a prime number\")\n",
    "            break\n",
    "        else:\n",
    "            print(n,\"is not a prime number\")"
   ]
  },
  {
   "cell_type": "code",
   "execution_count": 3,
   "id": "2b86a718",
   "metadata": {},
   "outputs": [
    {
     "name": "stdout",
     "output_type": "stream",
     "text": [
      "Enter a number:10\n",
      "The factorial of 10 is 3628800\n"
     ]
    }
   ],
   "source": [
    "n = int(input(\"Enter a number:\"))\n",
    "factorial = 1\n",
    "if n < 0:\n",
    "    print(\"factorial does not exist for negative numbers\")\n",
    "elif n == 0:\n",
    "    print(\"The factorial of 0 is 1\")\n",
    "else:\n",
    "    for n in range (1,n + 1):\n",
    "        factorial = factorial*n\n",
    "    print(\"The factorial of\", n,\"is\", factorial)"
   ]
  },
  {
   "cell_type": "code",
   "execution_count": 5,
   "id": "344afd4c",
   "metadata": {},
   "outputs": [
    {
     "name": "stdout",
     "output_type": "stream",
     "text": [
      "The simple intrest is: 4104.0\n"
     ]
    }
   ],
   "source": [
    "p = 800\n",
    "r = 19\n",
    "t = 27\n",
    "simple_intrest = (p*r*t)/100\n",
    "print(\"The simple intrest is:\", simple_intrest)"
   ]
  },
  {
   "cell_type": "code",
   "execution_count": 19,
   "id": "85b2054b",
   "metadata": {},
   "outputs": [
    {
     "name": "stdout",
     "output_type": "stream",
     "text": [
      "Enter a number8\n",
      "0 1 1 2 3 5 8 13 "
     ]
    }
   ],
   "source": [
    "n = int(input(\"Enter a number\"))\n",
    "a = 0 \n",
    "b = 1\n",
    "c = 0\n",
    "for i in range(n):\n",
    "    print(c,end = \" \")\n",
    "    a = b\n",
    "    b = c\n",
    "    c = a + b"
   ]
  },
  {
   "cell_type": "code",
   "execution_count": null,
   "id": "b28b2b5c",
   "metadata": {},
   "outputs": [],
   "source": [
    "n = int(input('Enter a number'))\n",
    "a = "
   ]
  }
 ],
 "metadata": {
  "kernelspec": {
   "display_name": "Python 3 (ipykernel)",
   "language": "python",
   "name": "python3"
  },
  "language_info": {
   "codemirror_mode": {
    "name": "ipython",
    "version": 3
   },
   "file_extension": ".py",
   "mimetype": "text/x-python",
   "name": "python",
   "nbconvert_exporter": "python",
   "pygments_lexer": "ipython3",
   "version": "3.10.9"
  }
 },
 "nbformat": 4,
 "nbformat_minor": 5
}
