{
 "cells": [
  {
   "cell_type": "code",
   "execution_count": 1,
   "id": "a987ce23",
   "metadata": {},
   "outputs": [
    {
     "name": "stdout",
     "output_type": "stream",
     "text": [
      "The decimal value of 344 is:\n",
      "0b101011000 in binary.\n",
      "0o530 in octal.\n",
      "0x158 in hexadecimal.\n"
     ]
    }
   ],
   "source": [
    "dec=344\n",
    "print(\"The decimal value of\",dec,\"is:\")\n",
    "print(bin(dec),\"in binary.\")\n",
    "print(oct(dec),\"in octal.\")\n",
    "print(hex(dec),\"in hexadecimal.\")"
   ]
  },
  {
   "cell_type": "code",
   "execution_count": 2,
   "id": "53e3233b",
   "metadata": {},
   "outputs": [
    {
     "name": "stdout",
     "output_type": "stream",
     "text": [
      "The addition of two matrices:\n",
      "[44, 53, 57]\n",
      "[74, 89, 93]\n",
      "\n",
      "The multiplication of two matrices:\n",
      "[44, 53, 57]\n",
      "[74, 89, 93]\n"
     ]
    }
   ],
   "source": [
    "A = [[4,5,6],\n",
    "    [7,8,9]]\n",
    " \n",
    "B = [[6,7,3],\n",
    "    [4,5,9]]\n",
    "     \n",
    "result = [[0, 0, 0 ],\n",
    "        [0, 0, 0 ]]\n",
    " \n",
    "\n",
    "for i in range(len(A)):\n",
    "    for j in range(len(B[0])):\n",
    "        for k in range(len(B)):\n",
    "            result[i][j] += A[i][k] * B[k][j]\n",
    "print(\"The addition of two matrices:\") \n",
    "for r in result:\n",
    "    print(r)\n",
    "    \n",
    "print(\"\\nThe multiplication of two matrices:\")\n",
    "for r in result:\n",
    "    print(r)"
   ]
  },
  {
   "cell_type": "code",
   "execution_count": 3,
   "id": "8104d9c3",
   "metadata": {},
   "outputs": [
    {
     "name": "stdout",
     "output_type": "stream",
     "text": [
      "The sorted words are:\n",
      "an\n",
      "cased\n",
      "example\n",
      "hello\n",
      "is\n",
      "letters\n",
      "this\n",
      "with\n"
     ]
    }
   ],
   "source": [
    "my_str = \"Hello this is an example with cased letters\"\n",
    "words = [word.lower() for word in my_str.split()]\n",
    "words.sort()\n",
    "print(\"The sorted words are:\")\n",
    "for word in words:\n",
    "    print(word)\n"
   ]
  },
  {
   "cell_type": "code",
   "execution_count": 4,
   "id": "e79c453d",
   "metadata": {},
   "outputs": [
    {
     "name": "stdout",
     "output_type": "stream",
     "text": [
      "No, it's not a palindrome.\n"
     ]
    }
   ],
   "source": [
    "def isPalindrome(s):\n",
    "    return s == s[::-1]\n",
    "\n",
    "s = \"hello\"\n",
    "ans = isPalindrome(s)\n",
    "\n",
    "if ans:\n",
    "    print(\"Yes, it's a palindrome.\")\n",
    "else:\n",
    "    print(\"No, it's not a palindrome.\")"
   ]
  },
  {
   "cell_type": "code",
   "execution_count": 5,
   "id": "35db4fcb",
   "metadata": {},
   "outputs": [
    {
     "name": "stdout",
     "output_type": "stream",
     "text": [
      "           # \n",
      "          # # \n",
      "         # # # \n",
      "        # # # # \n",
      "       # # # # # \n",
      "      # # # # # # \n",
      "     # # # # # # # \n",
      "    # # # # # # # # \n",
      "   # # # # # # # # # \n",
      "  # # # # # # # # # # \n",
      " # # # # # # # # # # # \n",
      "# # # # # # # # # # # # \n"
     ]
    }
   ],
   "source": [
    "def pyramid(n):\n",
    "    for i in range(0, n):\n",
    "        for j in range(0, n-i-1):\n",
    "            print(end=\" \")\n",
    "        for j in range(0, i+1):\n",
    "            print(\"#\", end=\" \")\n",
    "        print()\n",
    "\n",
    "pyramid(12)"
   ]
  },
  {
   "cell_type": "code",
   "execution_count": 6,
   "id": "e975dd88",
   "metadata": {},
   "outputs": [
    {
     "name": "stdout",
     "output_type": "stream",
     "text": [
      "{1, 2, 3, 5, 7}\n"
     ]
    }
   ],
   "source": [
    "my_dict = {'a':5, 'b':7, 'c':3, 'd':2, 'e':1}\n",
    "unique_values = set(my_dict.values())\n",
    "print(unique_values)"
   ]
  },
  {
   "cell_type": "code",
   "execution_count": 10,
   "id": "a9e55b6f",
   "metadata": {},
   "outputs": [
    {
     "name": "stdout",
     "output_type": "stream",
     "text": [
      "{'Hello': 1, 'Guys': 2, 'Welcome': 3}\n"
     ]
    }
   ],
   "source": [
    "keys = ['Hello', 'Guys', 'Welcome']\n",
    "values = [1,2,3]\n",
    "my_dict = {k: v for k, v in zip(keys, values)}\n",
    "print(my_dict)"
   ]
  },
  {
   "cell_type": "code",
   "execution_count": null,
   "id": "5efe1d08",
   "metadata": {},
   "outputs": [],
   "source": []
  }
 ],
 "metadata": {
  "kernelspec": {
   "display_name": "Python 3 (ipykernel)",
   "language": "python",
   "name": "python3"
  },
  "language_info": {
   "codemirror_mode": {
    "name": "ipython",
    "version": 3
   },
   "file_extension": ".py",
   "mimetype": "text/x-python",
   "name": "python",
   "nbconvert_exporter": "python",
   "pygments_lexer": "ipython3",
   "version": "3.10.9"
  }
 },
 "nbformat": 4,
 "nbformat_minor": 5
}
