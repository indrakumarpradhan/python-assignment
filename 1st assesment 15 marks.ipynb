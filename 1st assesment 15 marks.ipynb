{
 "cells": [
  {
   "cell_type": "code",
   "execution_count": 13,
   "id": "053fb93d",
   "metadata": {},
   "outputs": [
    {
     "name": "stdout",
     "output_type": "stream",
     "text": [
      "Enter a year: 1900\n",
      "Given year is not a leap year\n"
     ]
    }
   ],
   "source": [
    "year = int(input(\"Enter a year: \"))\n",
    "if (year%4 == 0 and year%100 != 0) or (year%400 == 0) :\n",
    "    print(\"Given year is a leap year\")\n",
    "else:\n",
    "    print(\"Given year is not a leap year\")"
   ]
  },
  {
   "cell_type": "code",
   "execution_count": 28,
   "id": "dfb2c2ea",
   "metadata": {},
   "outputs": [
    {
     "name": "stdout",
     "output_type": "stream",
     "text": [
      "Enter any number3\n",
      "3 is not a prime number\n"
     ]
    }
   ],
   "source": [
    "n = int(input(\"Enter any number\"))\n",
    "if n >1:\n",
    "    for i in range(2,n):\n",
    "        if(n % i) == 0:\n",
    "            print(n,\"is a prime number\")\n",
    "            break\n",
    "        else:\n",
    "            print(n,\"is not a prime number\")"
   ]
  },
  {
   "cell_type": "code",
   "execution_count": 15,
   "id": "2b86a718",
   "metadata": {},
   "outputs": [
    {
     "name": "stdout",
     "output_type": "stream",
     "text": [
      "Enter a number:23\n",
      "The factorial of 23 is 25852016738884976640000\n"
     ]
    }
   ],
   "source": [
    "n = int(input(\"Enter a number:\"))\n",
    "factorial = 1\n",
    "if n < 0:\n",
    "    print(\"factorial does not exist for negative numbers\")\n",
    "elif n == 0:\n",
    "    print(\"The factorial of 0 is 1\")\n",
    "else:\n",
    "    for n in range (1,n + 1):\n",
    "        factorial = factorial*n\n",
    "    print(\"The factorial of\", n,\"is\", factorial)"
   ]
  },
  {
   "cell_type": "code",
   "execution_count": 16,
   "id": "344afd4c",
   "metadata": {},
   "outputs": [
    {
     "name": "stdout",
     "output_type": "stream",
     "text": [
      "The simple intrest is: 4104.0\n"
     ]
    }
   ],
   "source": [
    "p = 800\n",
    "r = 19\n",
    "t = 27\n",
    "simple_intrest = (p*r*t)/100\n",
    "print(\"The simple intrest is:\", simple_intrest)"
   ]
  },
  {
   "cell_type": "code",
   "execution_count": 17,
   "id": "85b2054b",
   "metadata": {},
   "outputs": [
    {
     "name": "stdout",
     "output_type": "stream",
     "text": [
      "Enter a number21\n",
      "0 1 1 2 3 5 8 13 21 34 55 89 144 233 377 610 987 1597 2584 4181 6765 "
     ]
    }
   ],
   "source": [
    "n = int(input(\"Enter a number\"))\n",
    "a = 0 \n",
    "b = 1\n",
    "c = 0\n",
    "for i in range(n):\n",
    "    print(c,end = \" \")\n",
    "    a = b\n",
    "    b = c\n",
    "    c = a + b"
   ]
  },
  {
   "cell_type": "code",
   "execution_count": 19,
   "id": "2225dac2",
   "metadata": {},
   "outputs": [],
   "source": [
    "#OPPS CHALLANGE"
   ]
  },
  {
   "cell_type": "code",
   "execution_count": 86,
   "id": "290efea7",
   "metadata": {},
   "outputs": [],
   "source": [
    "class Account:\n",
    "    def __init__(self,owner,balance):\n",
    "        self.owner = owner\n",
    "        self.balance = balance\n",
    "   \n",
    "    def deposit(self,dep_amt):\n",
    "        self.balance += dep_amt\n",
    "        print('Deposit Accepted.')\n",
    "        \n",
    "    def withdraw(self,wd_amt):\n",
    "        if self.balance >= wd_amt:\n",
    "            self.balance -= wd_amt\n",
    "            print('Withdrawl Accepted.')\n",
    "        else:\n",
    "            print('Funds Unavaiable.')"
   ]
  },
  {
   "cell_type": "code",
   "execution_count": 87,
   "id": "71b6d2ab",
   "metadata": {},
   "outputs": [],
   "source": [
    "Account1 = Account('indra',200)"
   ]
  },
  {
   "cell_type": "code",
   "execution_count": 88,
   "id": "c2f6cd8d",
   "metadata": {},
   "outputs": [
    {
     "name": "stdout",
     "output_type": "stream",
     "text": [
      "<__main__.Account object at 0x0000024A370BC820>\n"
     ]
    }
   ],
   "source": [
    "print(Account1)"
   ]
  },
  {
   "cell_type": "code",
   "execution_count": 89,
   "id": "1e191cc1",
   "metadata": {},
   "outputs": [
    {
     "data": {
      "text/plain": [
       "'indra'"
      ]
     },
     "execution_count": 89,
     "metadata": {},
     "output_type": "execute_result"
    }
   ],
   "source": [
    "Account1.owner"
   ]
  },
  {
   "cell_type": "code",
   "execution_count": 90,
   "id": "bc9fed64",
   "metadata": {},
   "outputs": [
    {
     "data": {
      "text/plain": [
       "200"
      ]
     },
     "execution_count": 90,
     "metadata": {},
     "output_type": "execute_result"
    }
   ],
   "source": [
    "Account1.balance"
   ]
  },
  {
   "cell_type": "code",
   "execution_count": 91,
   "id": "6a8fa149",
   "metadata": {},
   "outputs": [
    {
     "name": "stdout",
     "output_type": "stream",
     "text": [
      "Deposit Accepted.\n"
     ]
    }
   ],
   "source": [
    "Account1.deposit(100)"
   ]
  },
  {
   "cell_type": "code",
   "execution_count": 92,
   "id": "6a32273c",
   "metadata": {},
   "outputs": [
    {
     "name": "stdout",
     "output_type": "stream",
     "text": [
      "Withdrawl Accepted.\n"
     ]
    }
   ],
   "source": [
    "Account1.withdraw(200)"
   ]
  },
  {
   "cell_type": "code",
   "execution_count": 93,
   "id": "ca3a1352",
   "metadata": {},
   "outputs": [
    {
     "name": "stdout",
     "output_type": "stream",
     "text": [
      "Funds Unavaiable.\n"
     ]
    }
   ],
   "source": [
    "Account1.withdraw(300)"
   ]
  },
  {
   "cell_type": "code",
   "execution_count": null,
   "id": "3b8a394c",
   "metadata": {},
   "outputs": [],
   "source": [
    "\n"
   ]
  },
  {
   "cell_type": "code",
   "execution_count": null,
   "id": "92ac664d",
   "metadata": {},
   "outputs": [],
   "source": []
  }
 ],
 "metadata": {
  "kernelspec": {
   "display_name": "Python 3 (ipykernel)",
   "language": "python",
   "name": "python3"
  },
  "language_info": {
   "codemirror_mode": {
    "name": "ipython",
    "version": 3
   },
   "file_extension": ".py",
   "mimetype": "text/x-python",
   "name": "python",
   "nbconvert_exporter": "python",
   "pygments_lexer": "ipython3",
   "version": "3.10.9"
  }
 },
 "nbformat": 4,
 "nbformat_minor": 5
}
